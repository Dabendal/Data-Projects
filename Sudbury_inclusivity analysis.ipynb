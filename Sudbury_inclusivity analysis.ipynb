{
 "cells": [
  {
   "cell_type": "markdown",
   "id": "5667827c-2812-4886-b2ea-706b8820a4c0",
   "metadata": {},
   "source": [
    "## Downloading and importing libraries "
   ]
  },
  {
   "cell_type": "code",
   "execution_count": null,
   "id": "27e799ed-a57e-476c-a417-c746696e64b5",
   "metadata": {},
   "outputs": [],
   "source": [
    "!pip install pandas\n",
    "!pip install seaborn\n",
    "!pip install plotly\n",
    "!pip install matplotlib"
   ]
  },
  {
   "cell_type": "code",
   "execution_count": 2,
   "id": "87196663-f06e-4be2-8139-e8baf2c5af6c",
   "metadata": {},
   "outputs": [],
   "source": [
    "import pandas as pd \n",
    "import seaborn as sns\n",
    "import plotly.express as px\n",
    "import matplotlib.pyplot as plt\n",
    "import plotly.graph_objects as go"
   ]
  },
  {
   "cell_type": "markdown",
   "id": "0df2e085-8243-42df-a8a9-b70efed9024c",
   "metadata": {},
   "source": [
    "## Reading Dataset"
   ]
  },
  {
   "cell_type": "markdown",
   "id": "3e55671c-0048-4d50-a5a3-e56f2a0875cd",
   "metadata": {},
   "source": [
    "Before reading the dataset, it was modified on excel to divide the columns using the \"text to columns\" function on excel and delimiting the text with commas, as the file was supplied in CSV( comma separated values ) format. I also removed the text at the bottom, leaving only our dataset in the CSV file."
   ]
  },
  {
   "cell_type": "code",
   "execution_count": 98,
   "id": "977becfb-f85a-41f0-83fa-443da5c50b00",
   "metadata": {},
   "outputs": [],
   "source": [
    "df = pd.read_csv(r\"C:\\Users\\mr-be\\OneDrive\\Bureau\\Technologue Job interview\\Census Profile Data 2021- Greater Sudbury.csv\", encoding = 'windows-1252')"
   ]
  },
  {
   "cell_type": "code",
   "execution_count": 99,
   "id": "a85373df-4bb2-4396-bf57-e87ae4e9cc6e",
   "metadata": {},
   "outputs": [
    {
     "data": {
      "text/html": [
       "<div>\n",
       "<style scoped>\n",
       "    .dataframe tbody tr th:only-of-type {\n",
       "        vertical-align: middle;\n",
       "    }\n",
       "\n",
       "    .dataframe tbody tr th {\n",
       "        vertical-align: top;\n",
       "    }\n",
       "\n",
       "    .dataframe thead th {\n",
       "        text-align: right;\n",
       "    }\n",
       "</style>\n",
       "<table border=\"1\" class=\"dataframe\">\n",
       "  <thead>\n",
       "    <tr style=\"text-align: right;\">\n",
       "      <th></th>\n",
       "      <th>Census Profile</th>\n",
       "      <th>Unnamed: 1</th>\n",
       "      <th>Unnamed: 2</th>\n",
       "      <th>Unnamed: 3</th>\n",
       "      <th>Unnamed: 4</th>\n",
       "    </tr>\n",
       "  </thead>\n",
       "  <tbody>\n",
       "    <tr>\n",
       "      <th>0</th>\n",
       "      <td>NaN</td>\n",
       "      <td>NaN</td>\n",
       "      <td>NaN</td>\n",
       "      <td>Greater Sudbury / Grand Sudbury, City (CV) [Ce...</td>\n",
       "      <td>NaN</td>\n",
       "    </tr>\n",
       "    <tr>\n",
       "      <th>1</th>\n",
       "      <td>NaN</td>\n",
       "      <td>NaN</td>\n",
       "      <td>NaN</td>\n",
       "      <td>Counts</td>\n",
       "      <td>NaN</td>\n",
       "    </tr>\n",
       "    <tr>\n",
       "      <th>2</th>\n",
       "      <td>Topic</td>\n",
       "      <td>Characteristic</td>\n",
       "      <td>Note</td>\n",
       "      <td>Total</td>\n",
       "      <td>Total_Flag</td>\n",
       "    </tr>\n",
       "    <tr>\n",
       "      <th>3</th>\n",
       "      <td>Population and dwellings</td>\n",
       "      <td>Population, 2021</td>\n",
       "      <td>1</td>\n",
       "      <td>166004</td>\n",
       "      <td>NaN</td>\n",
       "    </tr>\n",
       "    <tr>\n",
       "      <th>4</th>\n",
       "      <td>Population and dwellings</td>\n",
       "      <td>Population, 2016</td>\n",
       "      <td>1</td>\n",
       "      <td>161531</td>\n",
       "      <td>NaN</td>\n",
       "    </tr>\n",
       "  </tbody>\n",
       "</table>\n",
       "</div>"
      ],
      "text/plain": [
       "             Census Profile        Unnamed: 1 Unnamed: 2  \\\n",
       "0                       NaN               NaN        NaN   \n",
       "1                       NaN               NaN        NaN   \n",
       "2                     Topic    Characteristic       Note   \n",
       "3  Population and dwellings  Population, 2021          1   \n",
       "4  Population and dwellings  Population, 2016          1   \n",
       "\n",
       "                                          Unnamed: 3  Unnamed: 4  \n",
       "0  Greater Sudbury / Grand Sudbury, City (CV) [Ce...         NaN  \n",
       "1                                             Counts         NaN  \n",
       "2                                              Total  Total_Flag  \n",
       "3                                             166004         NaN  \n",
       "4                                             161531         NaN  "
      ]
     },
     "execution_count": 99,
     "metadata": {},
     "output_type": "execute_result"
    }
   ],
   "source": [
    "df.head()"
   ]
  },
  {
   "cell_type": "markdown",
   "id": "85b2cb56-60cf-462f-b49c-903e14900700",
   "metadata": {},
   "source": [
    "We can already see a few issues with our dataset. Let's start cleaning it a bit"
   ]
  },
  {
   "cell_type": "markdown",
   "id": "dc2196c7-810d-41b3-8540-e6abdcf84f37",
   "metadata": {},
   "source": [
    "## 1. Data cleaning and Preparation"
   ]
  },
  {
   "cell_type": "code",
   "execution_count": 100,
   "id": "9f1b1e75-d52c-4faa-a17e-09d5ddf7892d",
   "metadata": {},
   "outputs": [],
   "source": [
    "#Renaming the columns with the content of row 2, more appropriate\n",
    "df.columns = df.iloc[2] \n",
    "\n",
    "# removing useless rows\n",
    "df = df.drop(0,axis = 0)\n",
    "df = df.drop(1,axis = 0)\n",
    "df = df.drop(2,axis = 0)"
   ]
  },
  {
   "cell_type": "code",
   "execution_count": 101,
   "id": "0b668484-4f87-4114-b6dc-07d03f0212e6",
   "metadata": {},
   "outputs": [
    {
     "data": {
      "text/html": [
       "<div>\n",
       "<style scoped>\n",
       "    .dataframe tbody tr th:only-of-type {\n",
       "        vertical-align: middle;\n",
       "    }\n",
       "\n",
       "    .dataframe tbody tr th {\n",
       "        vertical-align: top;\n",
       "    }\n",
       "\n",
       "    .dataframe thead th {\n",
       "        text-align: right;\n",
       "    }\n",
       "</style>\n",
       "<table border=\"1\" class=\"dataframe\">\n",
       "  <thead>\n",
       "    <tr style=\"text-align: right;\">\n",
       "      <th>2</th>\n",
       "      <th>Topic</th>\n",
       "      <th>Characteristic</th>\n",
       "      <th>Note</th>\n",
       "      <th>Total</th>\n",
       "      <th>Total_Flag</th>\n",
       "    </tr>\n",
       "  </thead>\n",
       "  <tbody>\n",
       "    <tr>\n",
       "      <th>3</th>\n",
       "      <td>Population and dwellings</td>\n",
       "      <td>Population, 2021</td>\n",
       "      <td>1</td>\n",
       "      <td>166004</td>\n",
       "      <td>NaN</td>\n",
       "    </tr>\n",
       "    <tr>\n",
       "      <th>4</th>\n",
       "      <td>Population and dwellings</td>\n",
       "      <td>Population, 2016</td>\n",
       "      <td>1</td>\n",
       "      <td>161531</td>\n",
       "      <td>NaN</td>\n",
       "    </tr>\n",
       "    <tr>\n",
       "      <th>5</th>\n",
       "      <td>Population and dwellings</td>\n",
       "      <td>Population percentage change, 2016 to 2021</td>\n",
       "      <td>NaN</td>\n",
       "      <td>2.8</td>\n",
       "      <td>NaN</td>\n",
       "    </tr>\n",
       "    <tr>\n",
       "      <th>6</th>\n",
       "      <td>Population and dwellings</td>\n",
       "      <td>Total private dwellings</td>\n",
       "      <td>2</td>\n",
       "      <td>75967</td>\n",
       "      <td>NaN</td>\n",
       "    </tr>\n",
       "    <tr>\n",
       "      <th>7</th>\n",
       "      <td>Population and dwellings</td>\n",
       "      <td>Private dwellings occupied by usual residents</td>\n",
       "      <td>3</td>\n",
       "      <td>71476</td>\n",
       "      <td>NaN</td>\n",
       "    </tr>\n",
       "  </tbody>\n",
       "</table>\n",
       "</div>"
      ],
      "text/plain": [
       "2                     Topic                                 Characteristic  \\\n",
       "3  Population and dwellings                               Population, 2021   \n",
       "4  Population and dwellings                               Population, 2016   \n",
       "5  Population and dwellings     Population percentage change, 2016 to 2021   \n",
       "6  Population and dwellings                        Total private dwellings   \n",
       "7  Population and dwellings  Private dwellings occupied by usual residents   \n",
       "\n",
       "2 Note   Total Total_Flag  \n",
       "3    1  166004        NaN  \n",
       "4    1  161531        NaN  \n",
       "5  NaN     2.8        NaN  \n",
       "6    2   75967        NaN  \n",
       "7    3   71476        NaN  "
      ]
     },
     "execution_count": 101,
     "metadata": {},
     "output_type": "execute_result"
    }
   ],
   "source": [
    "df.head()"
   ]
  },
  {
   "cell_type": "markdown",
   "id": "d652f6bc-2a6d-4838-8628-2b2d76f46020",
   "metadata": {},
   "source": [
    "Now, we do a sanity check on the data "
   ]
  },
  {
   "cell_type": "code",
   "execution_count": 102,
   "id": "792f5030-7140-4575-96fc-d30e75b8a85a",
   "metadata": {},
   "outputs": [
    {
     "data": {
      "text/plain": [
       "(141, 5)"
      ]
     },
     "execution_count": 102,
     "metadata": {},
     "output_type": "execute_result"
    }
   ],
   "source": [
    "df.shape # number of columns and rows "
   ]
  },
  {
   "cell_type": "code",
   "execution_count": 103,
   "id": "511a3ecf-8d4d-43de-9540-0c7c992e789b",
   "metadata": {},
   "outputs": [
    {
     "data": {
      "text/plain": [
       "2\n",
       "Topic               0\n",
       "Characteristic      0\n",
       "Note               72\n",
       "Total              20\n",
       "Total_Flag        109\n",
       "dtype: int64"
      ]
     },
     "execution_count": 103,
     "metadata": {},
     "output_type": "execute_result"
    }
   ],
   "source": [
    "df.isnull().sum() # number of null values per column"
   ]
  },
  {
   "cell_type": "markdown",
   "id": "8e6f7d61-283d-48f7-8425-d8734c8344f9",
   "metadata": {},
   "source": [
    "The Total_flag column has 222 null values out of 254. There is no much data to be obtained from it. Let's remove it along with the note column that also doesn't provide much in the context of this exercice."
   ]
  },
  {
   "cell_type": "code",
   "execution_count": 104,
   "id": "80398bc8-7f28-44e2-8ce0-e5461d9cc2c5",
   "metadata": {},
   "outputs": [],
   "source": [
    "df =df.drop('Note',axis = 1)\n",
    "df = df.drop('Total_Flag', axis = 1 )"
   ]
  },
  {
   "cell_type": "code",
   "execution_count": 105,
   "id": "207b05cf-ce3d-4cf6-9446-8d670a8a55bc",
   "metadata": {},
   "outputs": [
    {
     "data": {
      "text/html": [
       "<div>\n",
       "<style scoped>\n",
       "    .dataframe tbody tr th:only-of-type {\n",
       "        vertical-align: middle;\n",
       "    }\n",
       "\n",
       "    .dataframe tbody tr th {\n",
       "        vertical-align: top;\n",
       "    }\n",
       "\n",
       "    .dataframe thead th {\n",
       "        text-align: right;\n",
       "    }\n",
       "</style>\n",
       "<table border=\"1\" class=\"dataframe\">\n",
       "  <thead>\n",
       "    <tr style=\"text-align: right;\">\n",
       "      <th>2</th>\n",
       "      <th>Topic</th>\n",
       "      <th>Characteristic</th>\n",
       "      <th>Total</th>\n",
       "    </tr>\n",
       "  </thead>\n",
       "  <tbody>\n",
       "    <tr>\n",
       "      <th>3</th>\n",
       "      <td>Population and dwellings</td>\n",
       "      <td>Population, 2021</td>\n",
       "      <td>166004</td>\n",
       "    </tr>\n",
       "    <tr>\n",
       "      <th>4</th>\n",
       "      <td>Population and dwellings</td>\n",
       "      <td>Population, 2016</td>\n",
       "      <td>161531</td>\n",
       "    </tr>\n",
       "    <tr>\n",
       "      <th>5</th>\n",
       "      <td>Population and dwellings</td>\n",
       "      <td>Population percentage change, 2016 to 2021</td>\n",
       "      <td>2.8</td>\n",
       "    </tr>\n",
       "    <tr>\n",
       "      <th>6</th>\n",
       "      <td>Population and dwellings</td>\n",
       "      <td>Total private dwellings</td>\n",
       "      <td>75967</td>\n",
       "    </tr>\n",
       "    <tr>\n",
       "      <th>7</th>\n",
       "      <td>Population and dwellings</td>\n",
       "      <td>Private dwellings occupied by usual residents</td>\n",
       "      <td>71476</td>\n",
       "    </tr>\n",
       "  </tbody>\n",
       "</table>\n",
       "</div>"
      ],
      "text/plain": [
       "2                     Topic                                 Characteristic  \\\n",
       "3  Population and dwellings                               Population, 2021   \n",
       "4  Population and dwellings                               Population, 2016   \n",
       "5  Population and dwellings     Population percentage change, 2016 to 2021   \n",
       "6  Population and dwellings                        Total private dwellings   \n",
       "7  Population and dwellings  Private dwellings occupied by usual residents   \n",
       "\n",
       "2   Total  \n",
       "3  166004  \n",
       "4  161531  \n",
       "5     2.8  \n",
       "6   75967  \n",
       "7   71476  "
      ]
     },
     "execution_count": 105,
     "metadata": {},
     "output_type": "execute_result"
    }
   ],
   "source": [
    "df.head() "
   ]
  },
  {
   "cell_type": "markdown",
   "id": "54404009-ef0f-42e5-9c09-95950df6a2ae",
   "metadata": {},
   "source": [
    "Our table seems much better already. With three columns : Topic, Characteristic and Total"
   ]
  },
  {
   "cell_type": "code",
   "execution_count": 106,
   "id": "16726d51-414c-4534-92ea-65c4f4f64a2c",
   "metadata": {},
   "outputs": [
    {
     "name": "stdout",
     "output_type": "stream",
     "text": [
      "<class 'pandas.core.frame.DataFrame'>\n",
      "RangeIndex: 141 entries, 3 to 143\n",
      "Data columns (total 3 columns):\n",
      " #   Column          Non-Null Count  Dtype \n",
      "---  ------          --------------  ----- \n",
      " 0   Topic           141 non-null    object\n",
      " 1   Characteristic  141 non-null    object\n",
      " 2   Total           121 non-null    object\n",
      "dtypes: object(3)\n",
      "memory usage: 3.4+ KB\n"
     ]
    }
   ],
   "source": [
    "df.info() # information about the number of rows, non null elements and type of each column."
   ]
  },
  {
   "cell_type": "markdown",
   "id": "656be410-7440-4ef5-822d-6771d726aba0",
   "metadata": {},
   "source": [
    "We see that there's an issue with the data type in the 'Total' Column. It should be numerical and not Object type. Let's change that :"
   ]
  },
  {
   "cell_type": "code",
   "execution_count": 107,
   "id": "7c87f013-6616-4cf4-8f3e-f92ef36f0140",
   "metadata": {},
   "outputs": [],
   "source": [
    "df['Total'] = df['Total'].astype(float) # changed to float to take into account the non integer values. "
   ]
  },
  {
   "cell_type": "code",
   "execution_count": 108,
   "id": "6db82e3a-9a7e-41bf-91f4-398d524690f1",
   "metadata": {},
   "outputs": [
    {
     "name": "stdout",
     "output_type": "stream",
     "text": [
      "<class 'pandas.core.frame.DataFrame'>\n",
      "RangeIndex: 141 entries, 3 to 143\n",
      "Data columns (total 3 columns):\n",
      " #   Column          Non-Null Count  Dtype  \n",
      "---  ------          --------------  -----  \n",
      " 0   Topic           141 non-null    object \n",
      " 1   Characteristic  141 non-null    object \n",
      " 2   Total           121 non-null    float64\n",
      "dtypes: float64(1), object(2)\n",
      "memory usage: 3.4+ KB\n"
     ]
    }
   ],
   "source": [
    "df.info() "
   ]
  },
  {
   "cell_type": "markdown",
   "id": "4203e98b-dbb4-40c7-872b-15eb0ba9db1a",
   "metadata": {},
   "source": [
    "Our 'Total' Column is in the right Data type"
   ]
  },
  {
   "cell_type": "code",
   "execution_count": 109,
   "id": "d1339580-3f7c-41f8-9dbc-de68fd1b5d46",
   "metadata": {},
   "outputs": [],
   "source": [
    "df = df.reset_index(drop=True) #reset indexes"
   ]
  },
  {
   "cell_type": "code",
   "execution_count": 110,
   "id": "73990201-a8d9-40eb-9167-7ec970ddd428",
   "metadata": {},
   "outputs": [],
   "source": [
    "df = df.rename_axis(None, axis=1) #remove the index column name "
   ]
  },
  {
   "cell_type": "markdown",
   "id": "061e40f9-cdb1-4e97-bfe4-908d73a97d5a",
   "metadata": {},
   "source": [
    "## 2. Filtering Demographic information"
   ]
  },
  {
   "cell_type": "markdown",
   "id": "f4a109aa-396c-4622-89d6-f1d9aacf6616",
   "metadata": {},
   "source": [
    "First, let's pinpoint the rows that interest us by using the topic as a way to navigate the dataframe"
   ]
  },
  {
   "cell_type": "code",
   "execution_count": 111,
   "id": "7145f2d8-f66b-433c-bd3a-98289a44fe57",
   "metadata": {},
   "outputs": [
    {
     "name": "stdout",
     "output_type": "stream",
     "text": [
      "{'Citizenship', 'Knowledge of official languages', 'Visible minority', 'Highest certificate', 'Admission category and applicant type', 'Eligibility and instruction in the minority official language for school-aged children', 'Immigrant status and period of immigration', 'Indigenous population', 'Secondary (high) school diploma or equivalency certificate', 'Children eligible for instruction in the minority official language', 'Age characteristics', 'Population and dwellings'}\n"
     ]
    }
   ],
   "source": [
    "topic_set = set()\n",
    "for t in df['Topic'] :\n",
    "    topic_set.add(t)\n",
    "print(topic_set)"
   ]
  },
  {
   "cell_type": "markdown",
   "id": "89e234d5-8cac-4e30-a768-03566b1e8de4",
   "metadata": {},
   "source": [
    "We go through the topics, searching for the indexes of the rows that interest us"
   ]
  },
  {
   "cell_type": "code",
   "execution_count": 112,
   "id": "dfc4ca36-dec4-49b0-99f1-1a19eba38089",
   "metadata": {},
   "outputs": [
    {
     "data": {
      "text/html": [
       "<div>\n",
       "<style scoped>\n",
       "    .dataframe tbody tr th:only-of-type {\n",
       "        vertical-align: middle;\n",
       "    }\n",
       "\n",
       "    .dataframe tbody tr th {\n",
       "        vertical-align: top;\n",
       "    }\n",
       "\n",
       "    .dataframe thead th {\n",
       "        text-align: right;\n",
       "    }\n",
       "</style>\n",
       "<table border=\"1\" class=\"dataframe\">\n",
       "  <thead>\n",
       "    <tr style=\"text-align: right;\">\n",
       "      <th></th>\n",
       "      <th>Topic</th>\n",
       "      <th>Characteristic</th>\n",
       "      <th>Total</th>\n",
       "    </tr>\n",
       "  </thead>\n",
       "  <tbody>\n",
       "    <tr>\n",
       "      <th>0</th>\n",
       "      <td>Population and dwellings</td>\n",
       "      <td>Population, 2021</td>\n",
       "      <td>166004.00</td>\n",
       "    </tr>\n",
       "    <tr>\n",
       "      <th>1</th>\n",
       "      <td>Population and dwellings</td>\n",
       "      <td>Population, 2016</td>\n",
       "      <td>161531.00</td>\n",
       "    </tr>\n",
       "    <tr>\n",
       "      <th>2</th>\n",
       "      <td>Population and dwellings</td>\n",
       "      <td>Population percentage change, 2016 to 2021</td>\n",
       "      <td>2.80</td>\n",
       "    </tr>\n",
       "    <tr>\n",
       "      <th>3</th>\n",
       "      <td>Population and dwellings</td>\n",
       "      <td>Total private dwellings</td>\n",
       "      <td>75967.00</td>\n",
       "    </tr>\n",
       "    <tr>\n",
       "      <th>4</th>\n",
       "      <td>Population and dwellings</td>\n",
       "      <td>Private dwellings occupied by usual residents</td>\n",
       "      <td>71476.00</td>\n",
       "    </tr>\n",
       "    <tr>\n",
       "      <th>5</th>\n",
       "      <td>Population and dwellings</td>\n",
       "      <td>Population density per square kilometre</td>\n",
       "      <td>52.10</td>\n",
       "    </tr>\n",
       "    <tr>\n",
       "      <th>6</th>\n",
       "      <td>Population and dwellings</td>\n",
       "      <td>Land area in square kilometres</td>\n",
       "      <td>3186.26</td>\n",
       "    </tr>\n",
       "  </tbody>\n",
       "</table>\n",
       "</div>"
      ],
      "text/plain": [
       "                      Topic                                 Characteristic  \\\n",
       "0  Population and dwellings                               Population, 2021   \n",
       "1  Population and dwellings                               Population, 2016   \n",
       "2  Population and dwellings     Population percentage change, 2016 to 2021   \n",
       "3  Population and dwellings                        Total private dwellings   \n",
       "4  Population and dwellings  Private dwellings occupied by usual residents   \n",
       "5  Population and dwellings        Population density per square kilometre   \n",
       "6  Population and dwellings                 Land area in square kilometres   \n",
       "\n",
       "       Total  \n",
       "0  166004.00  \n",
       "1  161531.00  \n",
       "2       2.80  \n",
       "3   75967.00  \n",
       "4   71476.00  \n",
       "5      52.10  \n",
       "6    3186.26  "
      ]
     },
     "execution_count": 112,
     "metadata": {},
     "output_type": "execute_result"
    }
   ],
   "source": [
    "pop= df[df['Topic'] == 'Population and dwellings']\n",
    "pop"
   ]
  },
  {
   "cell_type": "code",
   "execution_count": 113,
   "id": "6bbc8815-905b-4aeb-8708-9ea2e728c282",
   "metadata": {},
   "outputs": [
    {
     "data": {
      "text/html": [
       "<div>\n",
       "<style scoped>\n",
       "    .dataframe tbody tr th:only-of-type {\n",
       "        vertical-align: middle;\n",
       "    }\n",
       "\n",
       "    .dataframe tbody tr th {\n",
       "        vertical-align: top;\n",
       "    }\n",
       "\n",
       "    .dataframe thead th {\n",
       "        text-align: right;\n",
       "    }\n",
       "</style>\n",
       "<table border=\"1\" class=\"dataframe\">\n",
       "  <thead>\n",
       "    <tr style=\"text-align: right;\">\n",
       "      <th></th>\n",
       "      <th>Topic</th>\n",
       "      <th>Characteristic</th>\n",
       "      <th>Total</th>\n",
       "    </tr>\n",
       "  </thead>\n",
       "  <tbody>\n",
       "    <tr>\n",
       "      <th>40</th>\n",
       "      <td>Knowledge of official languages</td>\n",
       "      <td>Total - Knowledge of official languages for th...</td>\n",
       "      <td>164135.0</td>\n",
       "    </tr>\n",
       "    <tr>\n",
       "      <th>41</th>\n",
       "      <td>Knowledge of official languages</td>\n",
       "      <td>English only</td>\n",
       "      <td>102225.0</td>\n",
       "    </tr>\n",
       "    <tr>\n",
       "      <th>42</th>\n",
       "      <td>Knowledge of official languages</td>\n",
       "      <td>French only</td>\n",
       "      <td>1460.0</td>\n",
       "    </tr>\n",
       "    <tr>\n",
       "      <th>43</th>\n",
       "      <td>Knowledge of official languages</td>\n",
       "      <td>English and French</td>\n",
       "      <td>60035.0</td>\n",
       "    </tr>\n",
       "    <tr>\n",
       "      <th>44</th>\n",
       "      <td>Knowledge of official languages</td>\n",
       "      <td>Neither English nor French</td>\n",
       "      <td>410.0</td>\n",
       "    </tr>\n",
       "  </tbody>\n",
       "</table>\n",
       "</div>"
      ],
      "text/plain": [
       "                              Topic  \\\n",
       "40  Knowledge of official languages   \n",
       "41  Knowledge of official languages   \n",
       "42  Knowledge of official languages   \n",
       "43  Knowledge of official languages   \n",
       "44  Knowledge of official languages   \n",
       "\n",
       "                                       Characteristic     Total  \n",
       "40  Total - Knowledge of official languages for th...  164135.0  \n",
       "41                                       English only  102225.0  \n",
       "42                                        French only    1460.0  \n",
       "43                                 English and French   60035.0  \n",
       "44                         Neither English nor French     410.0  "
      ]
     },
     "execution_count": 113,
     "metadata": {},
     "output_type": "execute_result"
    }
   ],
   "source": [
    "lang_know= df[df['Topic'] == 'Knowledge of official languages']\n",
    "lang_know"
   ]
  },
  {
   "cell_type": "code",
   "execution_count": 114,
   "id": "b28156b3-c8e2-4290-bac6-300f930a5f8e",
   "metadata": {},
   "outputs": [
    {
     "data": {
      "text/html": [
       "<div>\n",
       "<style scoped>\n",
       "    .dataframe tbody tr th:only-of-type {\n",
       "        vertical-align: middle;\n",
       "    }\n",
       "\n",
       "    .dataframe tbody tr th {\n",
       "        vertical-align: top;\n",
       "    }\n",
       "\n",
       "    .dataframe thead th {\n",
       "        text-align: right;\n",
       "    }\n",
       "</style>\n",
       "<table border=\"1\" class=\"dataframe\">\n",
       "  <thead>\n",
       "    <tr style=\"text-align: right;\">\n",
       "      <th></th>\n",
       "      <th>Topic</th>\n",
       "      <th>Characteristic</th>\n",
       "      <th>Total</th>\n",
       "    </tr>\n",
       "  </thead>\n",
       "  <tbody>\n",
       "    <tr>\n",
       "      <th>45</th>\n",
       "      <td>Indigenous population</td>\n",
       "      <td>Total - Indigenous identity for the population...</td>\n",
       "      <td>163030.0</td>\n",
       "    </tr>\n",
       "    <tr>\n",
       "      <th>46</th>\n",
       "      <td>Indigenous population</td>\n",
       "      <td>Indigenous identity</td>\n",
       "      <td>17930.0</td>\n",
       "    </tr>\n",
       "    <tr>\n",
       "      <th>47</th>\n",
       "      <td>Indigenous population</td>\n",
       "      <td>Single Indigenous responses</td>\n",
       "      <td>17440.0</td>\n",
       "    </tr>\n",
       "    <tr>\n",
       "      <th>48</th>\n",
       "      <td>Indigenous population</td>\n",
       "      <td>First Nations (North American Indian)</td>\n",
       "      <td>7935.0</td>\n",
       "    </tr>\n",
       "    <tr>\n",
       "      <th>49</th>\n",
       "      <td>Indigenous population</td>\n",
       "      <td>Métis</td>\n",
       "      <td>9405.0</td>\n",
       "    </tr>\n",
       "    <tr>\n",
       "      <th>50</th>\n",
       "      <td>Indigenous population</td>\n",
       "      <td>Inuk (Inuit)</td>\n",
       "      <td>100.0</td>\n",
       "    </tr>\n",
       "    <tr>\n",
       "      <th>51</th>\n",
       "      <td>Indigenous population</td>\n",
       "      <td>Multiple Indigenous responses</td>\n",
       "      <td>305.0</td>\n",
       "    </tr>\n",
       "    <tr>\n",
       "      <th>52</th>\n",
       "      <td>Indigenous population</td>\n",
       "      <td>Indigenous responses not included elsewhere</td>\n",
       "      <td>185.0</td>\n",
       "    </tr>\n",
       "    <tr>\n",
       "      <th>53</th>\n",
       "      <td>Indigenous population</td>\n",
       "      <td>Non-Indigenous identity</td>\n",
       "      <td>145095.0</td>\n",
       "    </tr>\n",
       "    <tr>\n",
       "      <th>54</th>\n",
       "      <td>Indigenous population</td>\n",
       "      <td>Total - Registered or Treaty Indian status for...</td>\n",
       "      <td>163030.0</td>\n",
       "    </tr>\n",
       "    <tr>\n",
       "      <th>55</th>\n",
       "      <td>Indigenous population</td>\n",
       "      <td>Registered or Treaty Indian</td>\n",
       "      <td>5875.0</td>\n",
       "    </tr>\n",
       "    <tr>\n",
       "      <th>56</th>\n",
       "      <td>Indigenous population</td>\n",
       "      <td>Not a Registered or Treaty Indian</td>\n",
       "      <td>157155.0</td>\n",
       "    </tr>\n",
       "  </tbody>\n",
       "</table>\n",
       "</div>"
      ],
      "text/plain": [
       "                    Topic                                     Characteristic  \\\n",
       "45  Indigenous population  Total - Indigenous identity for the population...   \n",
       "46  Indigenous population                                Indigenous identity   \n",
       "47  Indigenous population                        Single Indigenous responses   \n",
       "48  Indigenous population              First Nations (North American Indian)   \n",
       "49  Indigenous population                                              Métis   \n",
       "50  Indigenous population                                       Inuk (Inuit)   \n",
       "51  Indigenous population                      Multiple Indigenous responses   \n",
       "52  Indigenous population        Indigenous responses not included elsewhere   \n",
       "53  Indigenous population                            Non-Indigenous identity   \n",
       "54  Indigenous population  Total - Registered or Treaty Indian status for...   \n",
       "55  Indigenous population                        Registered or Treaty Indian   \n",
       "56  Indigenous population                  Not a Registered or Treaty Indian   \n",
       "\n",
       "       Total  \n",
       "45  163030.0  \n",
       "46   17930.0  \n",
       "47   17440.0  \n",
       "48    7935.0  \n",
       "49    9405.0  \n",
       "50     100.0  \n",
       "51     305.0  \n",
       "52     185.0  \n",
       "53  145095.0  \n",
       "54  163030.0  \n",
       "55    5875.0  \n",
       "56  157155.0  "
      ]
     },
     "execution_count": 114,
     "metadata": {},
     "output_type": "execute_result"
    }
   ],
   "source": [
    "indig= df[df['Topic'] == 'Indigenous population']\n",
    "indig"
   ]
  },
  {
   "cell_type": "code",
   "execution_count": 115,
   "id": "3d1a7436-28b3-44a9-a828-dcc9d67ae6e4",
   "metadata": {},
   "outputs": [
    {
     "data": {
      "text/html": [
       "<div>\n",
       "<style scoped>\n",
       "    .dataframe tbody tr th:only-of-type {\n",
       "        vertical-align: middle;\n",
       "    }\n",
       "\n",
       "    .dataframe tbody tr th {\n",
       "        vertical-align: top;\n",
       "    }\n",
       "\n",
       "    .dataframe thead th {\n",
       "        text-align: right;\n",
       "    }\n",
       "</style>\n",
       "<table border=\"1\" class=\"dataframe\">\n",
       "  <thead>\n",
       "    <tr style=\"text-align: right;\">\n",
       "      <th></th>\n",
       "      <th>Topic</th>\n",
       "      <th>Characteristic</th>\n",
       "      <th>Total</th>\n",
       "    </tr>\n",
       "  </thead>\n",
       "  <tbody>\n",
       "    <tr>\n",
       "      <th>62</th>\n",
       "      <td>Immigrant status and period of immigration</td>\n",
       "      <td>Total - Immigrant status and period of immigra...</td>\n",
       "      <td>163030.0</td>\n",
       "    </tr>\n",
       "    <tr>\n",
       "      <th>63</th>\n",
       "      <td>Immigrant status and period of immigration</td>\n",
       "      <td>Non-immigrants</td>\n",
       "      <td>149620.0</td>\n",
       "    </tr>\n",
       "    <tr>\n",
       "      <th>64</th>\n",
       "      <td>Immigrant status and period of immigration</td>\n",
       "      <td>Immigrants</td>\n",
       "      <td>9850.0</td>\n",
       "    </tr>\n",
       "    <tr>\n",
       "      <th>65</th>\n",
       "      <td>Immigrant status and period of immigration</td>\n",
       "      <td>Before 1980</td>\n",
       "      <td>4220.0</td>\n",
       "    </tr>\n",
       "    <tr>\n",
       "      <th>66</th>\n",
       "      <td>Immigrant status and period of immigration</td>\n",
       "      <td>1980 to 1990</td>\n",
       "      <td>720.0</td>\n",
       "    </tr>\n",
       "    <tr>\n",
       "      <th>67</th>\n",
       "      <td>Immigrant status and period of immigration</td>\n",
       "      <td>1991 to 2000</td>\n",
       "      <td>865.0</td>\n",
       "    </tr>\n",
       "    <tr>\n",
       "      <th>68</th>\n",
       "      <td>Immigrant status and period of immigration</td>\n",
       "      <td>2001 to 2010</td>\n",
       "      <td>1300.0</td>\n",
       "    </tr>\n",
       "    <tr>\n",
       "      <th>69</th>\n",
       "      <td>Immigrant status and period of immigration</td>\n",
       "      <td>2011 to 2021</td>\n",
       "      <td>2745.0</td>\n",
       "    </tr>\n",
       "    <tr>\n",
       "      <th>70</th>\n",
       "      <td>Immigrant status and period of immigration</td>\n",
       "      <td>2011 to 2015</td>\n",
       "      <td>1115.0</td>\n",
       "    </tr>\n",
       "    <tr>\n",
       "      <th>71</th>\n",
       "      <td>Immigrant status and period of immigration</td>\n",
       "      <td>2016 to 2021</td>\n",
       "      <td>1635.0</td>\n",
       "    </tr>\n",
       "    <tr>\n",
       "      <th>72</th>\n",
       "      <td>Immigrant status and period of immigration</td>\n",
       "      <td>Non-permanent residents</td>\n",
       "      <td>3555.0</td>\n",
       "    </tr>\n",
       "  </tbody>\n",
       "</table>\n",
       "</div>"
      ],
      "text/plain": [
       "                                         Topic  \\\n",
       "62  Immigrant status and period of immigration   \n",
       "63  Immigrant status and period of immigration   \n",
       "64  Immigrant status and period of immigration   \n",
       "65  Immigrant status and period of immigration   \n",
       "66  Immigrant status and period of immigration   \n",
       "67  Immigrant status and period of immigration   \n",
       "68  Immigrant status and period of immigration   \n",
       "69  Immigrant status and period of immigration   \n",
       "70  Immigrant status and period of immigration   \n",
       "71  Immigrant status and period of immigration   \n",
       "72  Immigrant status and period of immigration   \n",
       "\n",
       "                                       Characteristic     Total  \n",
       "62  Total - Immigrant status and period of immigra...  163030.0  \n",
       "63                                     Non-immigrants  149620.0  \n",
       "64                                         Immigrants    9850.0  \n",
       "65                                        Before 1980    4220.0  \n",
       "66                                       1980 to 1990     720.0  \n",
       "67                                       1991 to 2000     865.0  \n",
       "68                                       2001 to 2010    1300.0  \n",
       "69                                       2011 to 2021    2745.0  \n",
       "70                                       2011 to 2015    1115.0  \n",
       "71                                       2016 to 2021    1635.0  \n",
       "72                            Non-permanent residents    3555.0  "
      ]
     },
     "execution_count": 115,
     "metadata": {},
     "output_type": "execute_result"
    }
   ],
   "source": [
    "immig = df[df['Topic'] == 'Immigrant status and period of immigration']\n",
    "immig"
   ]
  },
  {
   "cell_type": "code",
   "execution_count": 116,
   "id": "2c03c65c-5575-426a-9691-5d4662f15d59",
   "metadata": {},
   "outputs": [
    {
     "data": {
      "text/html": [
       "<div>\n",
       "<style scoped>\n",
       "    .dataframe tbody tr th:only-of-type {\n",
       "        vertical-align: middle;\n",
       "    }\n",
       "\n",
       "    .dataframe tbody tr th {\n",
       "        vertical-align: top;\n",
       "    }\n",
       "\n",
       "    .dataframe thead th {\n",
       "        text-align: right;\n",
       "    }\n",
       "</style>\n",
       "<table border=\"1\" class=\"dataframe\">\n",
       "  <thead>\n",
       "    <tr style=\"text-align: right;\">\n",
       "      <th></th>\n",
       "      <th>Topic</th>\n",
       "      <th>Characteristic</th>\n",
       "      <th>Total</th>\n",
       "    </tr>\n",
       "  </thead>\n",
       "  <tbody>\n",
       "    <tr>\n",
       "      <th>80</th>\n",
       "      <td>Visible minority</td>\n",
       "      <td>Total - Visible minority for the population in...</td>\n",
       "      <td>163030.0</td>\n",
       "    </tr>\n",
       "    <tr>\n",
       "      <th>81</th>\n",
       "      <td>Visible minority</td>\n",
       "      <td>Total visible minority population</td>\n",
       "      <td>10825.0</td>\n",
       "    </tr>\n",
       "    <tr>\n",
       "      <th>82</th>\n",
       "      <td>Visible minority</td>\n",
       "      <td>South Asian</td>\n",
       "      <td>3105.0</td>\n",
       "    </tr>\n",
       "    <tr>\n",
       "      <th>83</th>\n",
       "      <td>Visible minority</td>\n",
       "      <td>Chinese</td>\n",
       "      <td>985.0</td>\n",
       "    </tr>\n",
       "    <tr>\n",
       "      <th>84</th>\n",
       "      <td>Visible minority</td>\n",
       "      <td>Black</td>\n",
       "      <td>4030.0</td>\n",
       "    </tr>\n",
       "    <tr>\n",
       "      <th>85</th>\n",
       "      <td>Visible minority</td>\n",
       "      <td>Filipino</td>\n",
       "      <td>440.0</td>\n",
       "    </tr>\n",
       "    <tr>\n",
       "      <th>86</th>\n",
       "      <td>Visible minority</td>\n",
       "      <td>Arab</td>\n",
       "      <td>340.0</td>\n",
       "    </tr>\n",
       "    <tr>\n",
       "      <th>87</th>\n",
       "      <td>Visible minority</td>\n",
       "      <td>Latin American</td>\n",
       "      <td>705.0</td>\n",
       "    </tr>\n",
       "    <tr>\n",
       "      <th>88</th>\n",
       "      <td>Visible minority</td>\n",
       "      <td>Southeast Asian</td>\n",
       "      <td>400.0</td>\n",
       "    </tr>\n",
       "    <tr>\n",
       "      <th>89</th>\n",
       "      <td>Visible minority</td>\n",
       "      <td>West Asian</td>\n",
       "      <td>145.0</td>\n",
       "    </tr>\n",
       "    <tr>\n",
       "      <th>90</th>\n",
       "      <td>Visible minority</td>\n",
       "      <td>Korean</td>\n",
       "      <td>160.0</td>\n",
       "    </tr>\n",
       "    <tr>\n",
       "      <th>91</th>\n",
       "      <td>Visible minority</td>\n",
       "      <td>Japanese</td>\n",
       "      <td>85.0</td>\n",
       "    </tr>\n",
       "    <tr>\n",
       "      <th>92</th>\n",
       "      <td>Visible minority</td>\n",
       "      <td>Visible minority, n.i.e.</td>\n",
       "      <td>170.0</td>\n",
       "    </tr>\n",
       "    <tr>\n",
       "      <th>93</th>\n",
       "      <td>Visible minority</td>\n",
       "      <td>Multiple visible minorities</td>\n",
       "      <td>265.0</td>\n",
       "    </tr>\n",
       "    <tr>\n",
       "      <th>94</th>\n",
       "      <td>Visible minority</td>\n",
       "      <td>Not a visible minority</td>\n",
       "      <td>152205.0</td>\n",
       "    </tr>\n",
       "  </tbody>\n",
       "</table>\n",
       "</div>"
      ],
      "text/plain": [
       "               Topic                                     Characteristic  \\\n",
       "80  Visible minority  Total - Visible minority for the population in...   \n",
       "81  Visible minority                  Total visible minority population   \n",
       "82  Visible minority                                        South Asian   \n",
       "83  Visible minority                                            Chinese   \n",
       "84  Visible minority                                              Black   \n",
       "85  Visible minority                                           Filipino   \n",
       "86  Visible minority                                               Arab   \n",
       "87  Visible minority                                     Latin American   \n",
       "88  Visible minority                                    Southeast Asian   \n",
       "89  Visible minority                                         West Asian   \n",
       "90  Visible minority                                             Korean   \n",
       "91  Visible minority                                           Japanese   \n",
       "92  Visible minority                           Visible minority, n.i.e.   \n",
       "93  Visible minority                        Multiple visible minorities   \n",
       "94  Visible minority                             Not a visible minority   \n",
       "\n",
       "       Total  \n",
       "80  163030.0  \n",
       "81   10825.0  \n",
       "82    3105.0  \n",
       "83     985.0  \n",
       "84    4030.0  \n",
       "85     440.0  \n",
       "86     340.0  \n",
       "87     705.0  \n",
       "88     400.0  \n",
       "89     145.0  \n",
       "90     160.0  \n",
       "91      85.0  \n",
       "92     170.0  \n",
       "93     265.0  \n",
       "94  152205.0  "
      ]
     },
     "execution_count": 116,
     "metadata": {},
     "output_type": "execute_result"
    }
   ],
   "source": [
    "minority = df[df['Topic'] == 'Visible minority']\n",
    "minority"
   ]
  },
  {
   "cell_type": "markdown",
   "id": "760657b5-b9f4-4139-9cf2-ab76d726a99b",
   "metadata": {},
   "source": [
    "Now we have our rows. The indexes are as follow : 0, 42, 46, 64, 81.  Let's make a new dataframe with these rows. We'll call it, df_demo :"
   ]
  },
  {
   "cell_type": "code",
   "execution_count": 129,
   "id": "d6ac400e-7cd1-487e-9a02-71d7e70b7d14",
   "metadata": {},
   "outputs": [],
   "source": [
    "df_demo = df.loc[[0,42,46,64,81]] #creating the sub dataframe"
   ]
  },
  {
   "cell_type": "code",
   "execution_count": 130,
   "id": "1be68ea8-5769-47fd-ac0d-6cc522831d92",
   "metadata": {},
   "outputs": [],
   "source": [
    "df_demo = df_demo.reset_index(drop = True) #resetting index\n",
    "df_demo['Total'] = df_demo['Total'].astype(int) # Now that we only have int values, we can change the type again"
   ]
  },
  {
   "cell_type": "code",
   "execution_count": 131,
   "id": "27b6d60f-7c03-4730-86ba-5d4800e47772",
   "metadata": {},
   "outputs": [
    {
     "data": {
      "text/html": [
       "<div>\n",
       "<style scoped>\n",
       "    .dataframe tbody tr th:only-of-type {\n",
       "        vertical-align: middle;\n",
       "    }\n",
       "\n",
       "    .dataframe tbody tr th {\n",
       "        vertical-align: top;\n",
       "    }\n",
       "\n",
       "    .dataframe thead th {\n",
       "        text-align: right;\n",
       "    }\n",
       "</style>\n",
       "<table border=\"1\" class=\"dataframe\">\n",
       "  <thead>\n",
       "    <tr style=\"text-align: right;\">\n",
       "      <th></th>\n",
       "      <th>Topic</th>\n",
       "      <th>Characteristic</th>\n",
       "      <th>Total</th>\n",
       "    </tr>\n",
       "  </thead>\n",
       "  <tbody>\n",
       "    <tr>\n",
       "      <th>0</th>\n",
       "      <td>Population and dwellings</td>\n",
       "      <td>Population, 2021</td>\n",
       "      <td>166004</td>\n",
       "    </tr>\n",
       "    <tr>\n",
       "      <th>1</th>\n",
       "      <td>Knowledge of official languages</td>\n",
       "      <td>French only</td>\n",
       "      <td>1460</td>\n",
       "    </tr>\n",
       "    <tr>\n",
       "      <th>2</th>\n",
       "      <td>Indigenous population</td>\n",
       "      <td>Indigenous identity</td>\n",
       "      <td>17930</td>\n",
       "    </tr>\n",
       "    <tr>\n",
       "      <th>3</th>\n",
       "      <td>Immigrant status and period of immigration</td>\n",
       "      <td>Immigrants</td>\n",
       "      <td>9850</td>\n",
       "    </tr>\n",
       "    <tr>\n",
       "      <th>4</th>\n",
       "      <td>Visible minority</td>\n",
       "      <td>Total visible minority population</td>\n",
       "      <td>10825</td>\n",
       "    </tr>\n",
       "  </tbody>\n",
       "</table>\n",
       "</div>"
      ],
      "text/plain": [
       "                                        Topic  \\\n",
       "0                    Population and dwellings   \n",
       "1             Knowledge of official languages   \n",
       "2                       Indigenous population   \n",
       "3  Immigrant status and period of immigration   \n",
       "4                            Visible minority   \n",
       "\n",
       "                        Characteristic   Total  \n",
       "0                     Population, 2021  166004  \n",
       "1                          French only    1460  \n",
       "2                  Indigenous identity   17930  \n",
       "3                           Immigrants    9850  \n",
       "4    Total visible minority population   10825  "
      ]
     },
     "execution_count": 131,
     "metadata": {},
     "output_type": "execute_result"
    }
   ],
   "source": [
    "df_demo"
   ]
  },
  {
   "cell_type": "markdown",
   "id": "3d293b7e-55c8-40b3-a5a0-e8c95d862e54",
   "metadata": {},
   "source": [
    "Now let's calculate the percentage of each group compared to the total population of Greater Sudbury in the year 2021. Let's start by creating a function that will do the calculations for us : "
   ]
  },
  {
   "cell_type": "code",
   "execution_count": 145,
   "id": "a9503aa9-3f8c-4802-86c6-b3499bb294f3",
   "metadata": {},
   "outputs": [],
   "source": [
    "def percent_of_Sudbury(row) :\n",
    "    sudbury_population = df_demo.loc[0,'Total']\n",
    "    percent = ( row['Total']/ sudbury_population ) * 100\n",
    "    value = f\"{row['Total']}/{sudbury_population} * 100 = {percent:.2f}%\"\n",
    "    return value"
   ]
  },
  {
   "cell_type": "code",
   "execution_count": 146,
   "id": "0dd43996-e1cd-4abe-be3e-034d213385db",
   "metadata": {},
   "outputs": [
    {
     "data": {
      "text/html": [
       "<div>\n",
       "<style scoped>\n",
       "    .dataframe tbody tr th:only-of-type {\n",
       "        vertical-align: middle;\n",
       "    }\n",
       "\n",
       "    .dataframe tbody tr th {\n",
       "        vertical-align: top;\n",
       "    }\n",
       "\n",
       "    .dataframe thead th {\n",
       "        text-align: right;\n",
       "    }\n",
       "</style>\n",
       "<table border=\"1\" class=\"dataframe\">\n",
       "  <thead>\n",
       "    <tr style=\"text-align: right;\">\n",
       "      <th></th>\n",
       "      <th>Topic</th>\n",
       "      <th>Characteristic</th>\n",
       "      <th>Total</th>\n",
       "      <th>Inclusion groups percentage</th>\n",
       "    </tr>\n",
       "  </thead>\n",
       "  <tbody>\n",
       "    <tr>\n",
       "      <th>0</th>\n",
       "      <td>Population and dwellings</td>\n",
       "      <td>Population, 2021</td>\n",
       "      <td>166004</td>\n",
       "      <td>166004/166004 * 100 = 100.00%</td>\n",
       "    </tr>\n",
       "    <tr>\n",
       "      <th>1</th>\n",
       "      <td>Knowledge of official languages</td>\n",
       "      <td>French only</td>\n",
       "      <td>1460</td>\n",
       "      <td>1460/166004 * 100 = 0.88%</td>\n",
       "    </tr>\n",
       "    <tr>\n",
       "      <th>2</th>\n",
       "      <td>Indigenous population</td>\n",
       "      <td>Indigenous identity</td>\n",
       "      <td>17930</td>\n",
       "      <td>17930/166004 * 100 = 10.80%</td>\n",
       "    </tr>\n",
       "    <tr>\n",
       "      <th>3</th>\n",
       "      <td>Immigrant status and period of immigration</td>\n",
       "      <td>Immigrants</td>\n",
       "      <td>9850</td>\n",
       "      <td>9850/166004 * 100 = 5.93%</td>\n",
       "    </tr>\n",
       "    <tr>\n",
       "      <th>4</th>\n",
       "      <td>Visible minority</td>\n",
       "      <td>Total visible minority population</td>\n",
       "      <td>10825</td>\n",
       "      <td>10825/166004 * 100 = 6.52%</td>\n",
       "    </tr>\n",
       "  </tbody>\n",
       "</table>\n",
       "</div>"
      ],
      "text/plain": [
       "                                        Topic  \\\n",
       "0                    Population and dwellings   \n",
       "1             Knowledge of official languages   \n",
       "2                       Indigenous population   \n",
       "3  Immigrant status and period of immigration   \n",
       "4                            Visible minority   \n",
       "\n",
       "                        Characteristic   Total    Inclusion groups percentage  \n",
       "0                     Population, 2021  166004  166004/166004 * 100 = 100.00%  \n",
       "1                          French only    1460      1460/166004 * 100 = 0.88%  \n",
       "2                  Indigenous identity   17930    17930/166004 * 100 = 10.80%  \n",
       "3                           Immigrants    9850      9850/166004 * 100 = 5.93%  \n",
       "4    Total visible minority population   10825     10825/166004 * 100 = 6.52%  "
      ]
     },
     "execution_count": 146,
     "metadata": {},
     "output_type": "execute_result"
    }
   ],
   "source": [
    "df_demo['Inclusion groups percentage'] = df_demo.apply(percent_of_Sudbury, axis = 1) # Create new row and assign values to it based on our function\n",
    "df_demo"
   ]
  },
  {
   "cell_type": "markdown",
   "id": "79a39ae9-023a-4e91-98e7-5a89fe953bb8",
   "metadata": {},
   "source": [
    "It is difficult to calculate the total percentage of population that falls into an inclusion group, since there will be common elements between the groups. Example : a Moroccan immigrant whose language knowledge is limited to french can be included in The french only group, the immigrant group and the visible minority group. As such, with the available data, it is impossible to clearly divide between these groups. However, we can do a broad approximation by adding up these groups together."
   ]
  },
  {
   "cell_type": "code",
   "execution_count": 164,
   "id": "1dd168d1-8c83-413e-a0f4-cf1757c797d4",
   "metadata": {},
   "outputs": [
    {
     "name": "stdout",
     "output_type": "stream",
     "text": [
      "The total percentage of inclusive groups in Sudbury represents 24.13% of the population\n"
     ]
    }
   ],
   "source": [
    "def percent_of_Sudbury_bis(row) :\n",
    "    sudbury_population = df_demo.loc[0,'Total']\n",
    "    percent = ( row['Total']/ sudbury_population ) * 100\n",
    "    #value = f\"{row['Total']}/{sudbury_population} * 100 = {percent:.2f}%\"\n",
    "    return percent\n",
    "df_demo['percentages'] = df_demo.apply(percent_of_Sudbury_bis, axis = 1)\n",
    "inclus_percent = df_demo['percentages'].sum() - 100\n",
    "print(f\"The total percentage of inclusive groups in Sudbury represents {inclus_percent:.2f}% of the population\")"
   ]
  },
  {
   "cell_type": "markdown",
   "id": "db1b5a41-c3dc-4559-bb3a-81ba19fedd68",
   "metadata": {},
   "source": [
    "Let's add some vizualisation to make it more visible."
   ]
  },
  {
   "cell_type": "markdown",
   "id": "c153d828-2dd5-419a-ae32-7ad2e1a45dc1",
   "metadata": {},
   "source": [
    "Here's a pie chart representing the minorities compared to the total population of Sudbury "
   ]
  },
  {
   "cell_type": "code",
   "execution_count": 232,
   "id": "44098343-b24e-4337-93c3-2dc5d397bba1",
   "metadata": {},
   "outputs": [
    {
     "data": {
      "text/plain": [
       "<Figure size 1000x600 with 0 Axes>"
      ]
     },
     "metadata": {},
     "output_type": "display_data"
    },
    {
     "data": {
      "image/png": "[encoded data removed]",
      "text/plain": [
       "<Figure size 640x480 with 1 Axes>"
      ]
     },
     "metadata": {},
     "output_type": "display_data"
    }
   ],
   "source": [
    "temp_df = df_demo[1:5]\n",
    "temp_df = temp_df[['Characteristic','percentages']]\n",
    "temp_df.loc[len(temp_df.index)+1] = ['Non-inclusive population', 100 - 24.13] \n",
    "temp_df\n",
    "plt.figure(figsize=(10, 6)) \n",
    "temp_df.plot(kind='pie', y = 'percentages', autopct='%1.1f%%', labels=None) \n",
    "plt.title('Representation of all population groups in Sudbury by percentage')\n",
    "plt.legend(['Francophones', 'Indigenous population', 'Immigrant population', 'Minority population','Non inclusive population' ], loc='lower left')\n",
    "plt.show()"
   ]
  },
  {
   "cell_type": "markdown",
   "id": "d80cdb2b-959a-46c4-ac90-363bb6a9bb56",
   "metadata": {},
   "source": [
    "Here is a pie chart representing the percentages of each group amongst the inclusive groups in Sudbury."
   ]
  },
  {
   "cell_type": "code",
   "execution_count": 210,
   "id": "a38f0fa0-1ce6-490e-9164-ca51daadfcf0",
   "metadata": {},
   "outputs": [
    {
     "data": {
      "text/plain": [
       "<Figure size 1000x600 with 0 Axes>"
      ]
     },
     "metadata": {},
     "output_type": "display_data"
    },
    {
     "data": {
      "image/png": "[encoded data removed]",
      "text/plain": [
       "<Figure size 640x480 with 1 Axes>"
      ]
     },
     "metadata": {},
     "output_type": "display_data"
    }
   ],
   "source": [
    "# Create the pie chart\n",
    "plt.figure(figsize=(10, 6)) \n",
    "df_demo_bis.plot(kind='pie', y = 'Total', autopct='%1.1f%%', labels=None) \n",
    "plt.title('Representation of the inclusive groups in Sudbury by percentage')\n",
    "plt.legend(['Francophones', 'Indigenous population', 'Immigrant population', 'Minority population' ], loc='lower left')\n",
    "plt.show()"
   ]
  }
 ],
 "metadata": {
  "kernelspec": {
   "display_name": "Python 3 (ipykernel)",
   "language": "python",
   "name": "python3"
  },
  "language_info": {
   "codemirror_mode": {
    "name": "ipython",
    "version": 3
   },
   "file_extension": ".py",
   "mimetype": "text/x-python",
   "name": "python",
   "nbconvert_exporter": "python",
   "pygments_lexer": "ipython3",
   "version": "3.12.2"
  }
 },
 "nbformat": 4,
 "nbformat_minor": 5
}
